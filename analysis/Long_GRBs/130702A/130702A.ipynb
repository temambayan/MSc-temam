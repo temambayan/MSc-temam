{
 "cells": [
  {
   "cell_type": "code",
   "execution_count": 1,
   "id": "caf49a7f-0f0c-4820-9be2-62c66ab14f33",
   "metadata": {},
   "outputs": [],
   "source": [
    "import matplotlib.pyplot as plt\n",
    "import numpy as np\n",
    "from scipy.optimize import curve_fit"
   ]
  },
  {
   "cell_type": "code",
   "execution_count": 2,
   "id": "47aca47b-2bc6-48c5-8622-7047885487c2",
   "metadata": {},
   "outputs": [],
   "source": [
    "data = np.genfromtxt(\"130702A.txt\", dtype=None,names = ['time','t_errUp', 't_errdwn', 'Flux', 'Fluxup','Flux_dwn'],usecols=(0,1,2,3,4,5),unpack=True)\n",
    "\n",
    "data=np.array(data)\n",
    "\n",
    "t_050315 = data[0,:]\n",
    "t_050315_up = data[1,:]\n",
    "t_050315_down = data[2,:]\n",
    "Flux_050315 = data[3,:]\n",
    "Flux_050315_up = data[4,:]\n",
    "Flux_050315_down = data[5,:]"
   ]
  },
  {
   "cell_type": "code",
   "execution_count": 3,
   "id": "57c63b96-495f-44a5-a111-a20019b82090",
   "metadata": {},
   "outputs": [],
   "source": [
    "def linear_fit(x,m,c):\n",
    "    return  c*x**(-m)"
   ]
  },
  {
   "cell_type": "code",
   "execution_count": 4,
   "id": "0ee1117e-99b7-4f0f-8897-70065148c2ae",
   "metadata": {},
   "outputs": [
    {
     "name": "stdout",
     "output_type": "stream",
     "text": [
      "Slope (m) is  0.9689590476115103\n",
      "Intercept (c) is  7.930606426980853e-07\n",
      "[[9.45096921e-04 8.77502028e-09]\n",
      " [8.77502028e-09 8.16088078e-14]]\n"
     ]
    }
   ],
   "source": [
    "params, covariance = curve_fit(f = linear_fit, xdata = t_050315, ydata = Flux_050315)\n",
    "\n",
    "print('Slope (m) is ', params[0])\n",
    "print('Intercept (c) is ', params[1])\n",
    "print(covariance)"
   ]
  },
  {
   "cell_type": "code",
   "execution_count": 5,
   "id": "f67e72ea-d234-47e5-8a11-5bfd4568cefd",
   "metadata": {},
   "outputs": [
    {
     "name": "stdout",
     "output_type": "stream",
     "text": [
      "The value of fitting parameters with their errors\n",
      "The slope (m) is  0.9689590476115103 +- 0.03074242867843893\n",
      "The intercept (c) is  7.930606426980853e-07 +- 2.856725533849645e-07\n",
      "The R^2 value is  0.901045830551039\n"
     ]
    }
   ],
   "source": [
    "standarddevparams2 = np.sqrt(np.diag(covariance))\n",
    "residuals = Flux_050315 - linear_fit(t_050315,params[0],params[1])\n",
    "squaresumofresiduals = np.sum(residuals**2)\n",
    "squaresum = np.sum((Flux_050315-np.mean(Flux_050315))**2)\n",
    "R2 = 1 - (squaresumofresiduals/squaresum)\n",
    "\n",
    "print('The value of fitting parameters with their errors')\n",
    "print('The slope (m) is ', params[0],'+-', standarddevparams2[0])\n",
    "print('The intercept (c) is ', params[1],'+-', standarddevparams2[1])\n",
    "print('The R^2 value is ', R2)"
   ]
  },
  {
   "cell_type": "code",
   "execution_count": 6,
   "id": "f38f7d80-04b2-4c5d-9233-c5ff580f4736",
   "metadata": {},
   "outputs": [
    {
     "data": {
      "image/png": "[encoded data removed]",
      "text/plain": [
       "<Figure size 432x288 with 1 Axes>"
      ]
     },
     "metadata": {
      "needs_background": "light"
     },
     "output_type": "display_data"
    }
   ],
   "source": [
    "plt.scatter(t_050315,Flux_050315, c='black')\n",
    "plt.xlabel('Time (sec)')\n",
    "plt.ylabel('Flux')\n",
    "#plt.ylim(1e-12,1e-10)\n",
    "#plt.xlim(80,1e3)\n",
    "plt.gca().set_yscale('log')\n",
    "plt.gca().set_xscale('log')\n",
    "plt.plot(t_050315, linear_fit(t_050315,params[0],params[1]),c='red',ls='--',lw=1)\n",
    "plt.savefig('130702A_fit.png')\n",
    "plt.show();"
   ]
  },
  {
   "cell_type": "code",
   "execution_count": 7,
   "id": "e1808803-9a49-44e3-8fb1-3ce4fb7f5eeb",
   "metadata": {},
   "outputs": [
    {
     "data": {
      "image/png": "[encoded data removed]",
      "text/plain": [
       "<Figure size 432x288 with 1 Axes>"
      ]
     },
     "metadata": {
      "needs_background": "light"
     },
     "output_type": "display_data"
    }
   ],
   "source": [
    "plt.plot(t_050315, Flux_050315, 'bo')\n",
    "plt.errorbar(t_050315, Flux_050315, xerr=t_050315_up,  yerr=Flux_050315_up)\n",
    "plt.xlabel('Time')\n",
    "plt.ylabel('Flux')\n",
    "plt.grid()\n",
    "plt.savefig('130702A_err.png')\n",
    "#plt.savefig('GRB180720C.pdf')\n",
    "plt.show()"
   ]
  },
  {
   "cell_type": "code",
   "execution_count": null,
   "id": "3f8e8d1b-f9f3-45fd-aec6-b8b06667f666",
   "metadata": {},
   "outputs": [],
   "source": []
  }
 ],
 "metadata": {
  "kernelspec": {
   "display_name": "Python 3 (ipykernel)",
   "language": "python",
   "name": "python3"
  },
  "language_info": {
   "codemirror_mode": {
    "name": "ipython",
    "version": 3
   },
   "file_extension": ".py",
   "mimetype": "text/x-python",
   "name": "python",
   "nbconvert_exporter": "python",
   "pygments_lexer": "ipython3",
   "version": "3.9.12"
  }
 },
 "nbformat": 4,
 "nbformat_minor": 5
}
