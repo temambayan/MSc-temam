{
 "cells": [
  {
   "cell_type": "code",
   "execution_count": 1,
   "id": "e006fd94",
   "metadata": {},
   "outputs": [],
   "source": [
    "import matplotlib.pyplot as plt\n",
    "import numpy as np\n",
    "from scipy.optimize import curve_fit\n",
    "import numpy"
   ]
  },
  {
   "cell_type": "code",
   "execution_count": 2,
   "id": "5aecbd41",
   "metadata": {},
   "outputs": [
    {
     "ename": "IndexError",
     "evalue": "only integers, slices (`:`), ellipsis (`...`), numpy.newaxis (`None`) and integer or boolean arrays are valid indices",
     "output_type": "error",
     "traceback": [
      "\u001b[0;31m---------------------------------------------------------------------------\u001b[0m",
      "\u001b[0;31mIndexError\u001b[0m                                Traceback (most recent call last)",
      "Input \u001b[0;32mIn [2]\u001b[0m, in \u001b[0;36m<cell line: 4>\u001b[0;34m()\u001b[0m\n\u001b[1;32m      1\u001b[0m data \u001b[38;5;241m=\u001b[39m np\u001b[38;5;241m.\u001b[39mgenfromtxt(\u001b[38;5;124m\"\u001b[39m\u001b[38;5;124m130701A.txt\u001b[39m\u001b[38;5;124m\"\u001b[39m, dtype\u001b[38;5;241m=\u001b[39m\u001b[38;5;28;01mNone\u001b[39;00m,names \u001b[38;5;241m=\u001b[39m [\u001b[38;5;124m'\u001b[39m\u001b[38;5;124mtime\u001b[39m\u001b[38;5;124m'\u001b[39m,\u001b[38;5;124m'\u001b[39m\u001b[38;5;124mt_errUp\u001b[39m\u001b[38;5;124m'\u001b[39m, \u001b[38;5;124m'\u001b[39m\u001b[38;5;124mt_errdwn\u001b[39m\u001b[38;5;124m'\u001b[39m, \u001b[38;5;124m'\u001b[39m\u001b[38;5;124mFlux\u001b[39m\u001b[38;5;124m'\u001b[39m, \u001b[38;5;124m'\u001b[39m\u001b[38;5;124mFluxup\u001b[39m\u001b[38;5;124m'\u001b[39m,\u001b[38;5;124m'\u001b[39m\u001b[38;5;124mFlux_dwn\u001b[39m\u001b[38;5;124m'\u001b[39m],usecols\u001b[38;5;241m=\u001b[39m(\u001b[38;5;241m0\u001b[39m,\u001b[38;5;241m1\u001b[39m,\u001b[38;5;241m2\u001b[39m,\u001b[38;5;241m3\u001b[39m,\u001b[38;5;241m4\u001b[39m,\u001b[38;5;241m5\u001b[39m),unpack\u001b[38;5;241m=\u001b[39m\u001b[38;5;28;01mTrue\u001b[39;00m)\n\u001b[1;32m      3\u001b[0m data\u001b[38;5;241m=\u001b[39mnp\u001b[38;5;241m.\u001b[39marray(data)\n\u001b[0;32m----> 4\u001b[0m t_050315 \u001b[38;5;241m=\u001b[39m \u001b[43mdata\u001b[49m\u001b[43m[\u001b[49m\u001b[38;5;124;43m\"\u001b[39;49m\u001b[38;5;124;43mtime\u001b[39;49m\u001b[38;5;124;43m\"\u001b[39;49m\u001b[43m]\u001b[49m\n\u001b[1;32m      5\u001b[0m t_050315_up \u001b[38;5;241m=\u001b[39m data[\u001b[38;5;124m'\u001b[39m\u001b[38;5;124mt_errUp\u001b[39m\u001b[38;5;124m'\u001b[39m]\n\u001b[1;32m      6\u001b[0m t_050315_down \u001b[38;5;241m=\u001b[39m data[\u001b[38;5;124m'\u001b[39m\u001b[38;5;124mt_errdwn\u001b[39m\u001b[38;5;124m'\u001b[39m]\n",
      "\u001b[0;31mIndexError\u001b[0m: only integers, slices (`:`), ellipsis (`...`), numpy.newaxis (`None`) and integer or boolean arrays are valid indices"
     ]
    }
   ],
   "source": [
    "data = np.genfromtxt(\"130701A.txt\", dtype=None,names = ['time','t_errUp', 't_errdwn', 'Flux', 'Fluxup','Flux_dwn'],usecols=(0,1,2,3,4,5),unpack=True)\n",
    "\n",
    "data=np.array(data)\n",
    "\n",
    "t_050315 = data[\"time\"]\n",
    "t_050315_up = data['t_errUp']\n",
    "t_050315_down = data['t_errdwn']\n",
    "Flux_050315 = data['Flux']\n",
    "Flux_050315_up = data['Fluxup']\n",
    "Flux_050315_down = data['Flux_dwn']"
   ]
  },
  {
   "cell_type": "code",
   "execution_count": null,
   "id": "c94765b2",
   "metadata": {},
   "outputs": [],
   "source": [
    "def linear_fit(x,m,c):\n",
    "    return  c*x**(-m)"
   ]
  },
  {
   "cell_type": "code",
   "execution_count": null,
   "id": "c2dd9a7c",
   "metadata": {},
   "outputs": [],
   "source": [
    "params, covariance = curve_fit(f = linear_fit, xdata = t_050315, ydata = Flux_050315)\n",
    "\n",
    "print('Slope (m) is ', params[0])\n",
    "print('Intercept (c) is ', params[1])\n",
    "print(covariance)"
   ]
  },
  {
   "cell_type": "code",
   "execution_count": null,
   "id": "95f3fc0e",
   "metadata": {},
   "outputs": [],
   "source": [
    "standarddevparams2 = np.sqrt(np.diag(covariance))\n",
    "residuals = Flux_050315 - linear_fit(t_050315,params[0],params[1])\n",
    "squaresumofresiduals = np.sum(residuals**2)\n",
    "squaresum = np.sum((Flux_050315-np.mean(Flux_050315))**2)\n",
    "R2 = 1 - (squaresumofresiduals/squaresum)\n",
    "\n",
    "print('The value of fitting parameters with their errors')\n",
    "print('The slope (m) is ', params[0],'+-', standarddevparams2[0])\n",
    "print('The intercept (c) is ', params[1],'+-', standarddevparams2[1])\n",
    "print('The R^2 value is ', R2)"
   ]
  },
  {
   "cell_type": "code",
   "execution_count": null,
   "id": "0b844fed",
   "metadata": {},
   "outputs": [],
   "source": [
    "plt.scatter(t_050315,Flux_050315, c='k')\n",
    "plt.xlabel('Time (sec)')\n",
    "plt.ylabel('Flux [add unit]')\n",
    "#plt.ylim(1e-12,1e-10)\n",
    "#plt.xlim(80,1e3)\n",
    "plt.gca().set_yscale('log')\n",
    "plt.gca().set_xscale('log')\n",
    "plt.plot(t_050315, linear_fit(t_050315,params[0],params[1]),c='red',ls='--',lw=1)\n",
    "plt.errorbar(t_050315, Flux_050315, xerr=t_050315_up,  yerr=Flux_050315_up, markersize=5,  mfc = 'none',  \n",
    "             ecolor='k',linewidth=1.2, fmt = ' ', mec='k', \n",
    "             capsize=0.1, lw=1.3,label='Long GRB150314A')\n",
    "#plt.grid()\n",
    "plt.legend(bbox_to_anchor=(0.31, .80, 0.99, .103), loc=3, ncol=1, fontsize=13, mode=\"expand\",fancybox = True,framealpha=0.0001, borderaxespad=0.01)\n",
    "plt.savefig('130701A_fit.png')\n",
    "plt.show();"
   ]
  },
  {
   "cell_type": "code",
   "execution_count": null,
   "id": "90c8b04e",
   "metadata": {},
   "outputs": [],
   "source": [
    "plt.plot(t_050315, Flux_050315, 'bo')\n",
    "plt.errorbar(t_050315, Flux_050315, xerr=t_050315_up,  yerr=Flux_050315_up, markersize=5,  mfc = 'none',  \n",
    "             ecolor='g',linewidth=1.2, fmt = ' ', mec='g', \n",
    "             capsize=0.1, lw=1.3,label='Long GRB150314A')\n",
    "plt.xlabel('Time (s)')\n",
    "plt.ylabel('Flux [add unit]')\n",
    "plt.gca().set_yscale('log')\n",
    "plt.gca().set_xscale('log')\n",
    "plt.grid()\n",
    "plt.legend(bbox_to_anchor=(0.31, .80, 0.99, .103), loc=3, ncol=1, fontsize=13, mode=\"expand\",fancybox = True,framealpha=0.0001, borderaxespad=0.01)\n",
    "\n",
    "plt.savefig('130701A_err.png')\n",
    "#plt.savefig('GRB180720C.pdf')\n",
    "plt.show()"
   ]
  },
  {
   "cell_type": "code",
   "execution_count": null,
   "id": "c32cbfdd",
   "metadata": {},
   "outputs": [],
   "source": [
    "fig = plt.figure(1, figsize=(6.,4.5))\n",
    "ax = fig.add_subplot(111)\n",
    "#fig = plt.figure(1, figsize=(12.0,10.5))\n",
    "fig.subplots_adjust(hspace=0.00, wspace=0.00, left=0.11, bottom=0.11, top=0.965, right=0.97)\n",
    "\n",
    "\n",
    "#ax = plt.subplot2grid((3, 3), (0, 0), colspan=2)\n",
    "plt.tick_params(axis='both', left='on', top='off', right='off', bottom='on', labelleft='on', labeltop='off', labelright='off', labelbottom='on')\n",
    "\n",
    "\n",
    "s =20\n",
    "MINf, MAXf = np.min(Flux_050315), np.max(Flux_050315)\n",
    "plt.hist(Flux_050315, bins = 10**np.linspace(np.log10(MINf), np.log10(MAXf), s), color='olive', \n",
    "         lw=2.5, linestyle = '-',  histtype='step', rwidth='mid',  hatch='...', \n",
    "         normed = False, edgecolor='olive',  alpha=.99, label='Long GRB150314A')\n",
    "yf, bin_edges = numpy.histogram(Flux_050315, bins = 10**np.linspace(np.log10(MINf), np.log10(MAXf), s))\n",
    "bin_centers = 0.5*(bin_edges[1:] + bin_edges[:-1])\n",
    "plt.errorbar(bin_centers, yf, yerr = yf**0.5, marker = '.', fmt = '+', linewidth=2, color='k', capsize=1, alpha=.6)\n",
    "plt.gca().set_xscale(\"log\")\n",
    "plt.xlabel(r'Flux [add unit]',fontsize=16,fontweight='normal')\n",
    "plt.ylabel(r'Counts ',fontsize=16,fontweight='normal')\n",
    "plt.legend(bbox_to_anchor=(0.11, .80, 0.99, .103), loc=3, ncol=1, fontsize=13, mode=\"expand\",fancybox = True,framealpha=0.0001, borderaxespad=0.01)\n",
    "\n",
    "\n",
    "plt.savefig('Flux_Histogrma.png')\n",
    "\n",
    "plt.show()"
   ]
  },
  {
   "cell_type": "code",
   "execution_count": null,
   "id": "9e95ae9e",
   "metadata": {},
   "outputs": [],
   "source": []
  },
  {
   "cell_type": "code",
   "execution_count": null,
   "id": "cf1caa2c",
   "metadata": {},
   "outputs": [],
   "source": []
  },
  {
   "cell_type": "code",
   "execution_count": null,
   "id": "898c8b16",
   "metadata": {},
   "outputs": [],
   "source": []
  }
 ],
 "metadata": {
  "kernelspec": {
   "display_name": "Python 3 (ipykernel)",
   "language": "python",
   "name": "python3"
  },
  "language_info": {
   "codemirror_mode": {
    "name": "ipython",
    "version": 3
   },
   "file_extension": ".py",
   "mimetype": "text/x-python",
   "name": "python",
   "nbconvert_exporter": "python",
   "pygments_lexer": "ipython3",
   "version": "3.9.12"
  }
 },
 "nbformat": 4,
 "nbformat_minor": 5
}
