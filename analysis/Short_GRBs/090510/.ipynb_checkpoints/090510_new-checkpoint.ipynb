{
 "cells": [
  {
   "cell_type": "code",
   "execution_count": 1,
   "id": "a8259ac9",
   "metadata": {},
   "outputs": [],
   "source": [
    "import matplotlib.pyplot as plt\n",
    "import numpy as np\n",
    "from scipy.optimize import curve_fit\n",
    "import numpy"
   ]
  },
  {
   "cell_type": "code",
   "execution_count": 2,
   "id": "1b31fce2",
   "metadata": {},
   "outputs": [],
   "source": [
    "data = np.genfromtxt(\"130418A.txt\")\n",
    "\n",
    "data = np.array(data)\n",
    "\n",
    "t_050315 = data[0,:]\n",
    "t_050315_up = data[1,:]\n",
    "t_050315_down = data[2,:]\n",
    "Flux_050315 = data[3,:]\n",
    "Flux_050315_up = data[4,:]\n",
    "Flux_050315_down = data[5,:]"
   ]
  },
  {
   "cell_type": "code",
   "execution_count": 3,
   "id": "6004dcba",
   "metadata": {},
   "outputs": [],
   "source": [
    "def linear_fit(x,m,c):\n",
    "    return  c*x**(-m)"
   ]
  },
  {
   "cell_type": "code",
   "execution_count": 4,
   "id": "6f0d429d",
   "metadata": {},
   "outputs": [
    {
     "name": "stdout",
     "output_type": "stream",
     "text": [
      "Slope (m) is  1.0\n",
      "Intercept (c) is  1.0\n",
      "[[inf inf]\n",
      " [inf inf]]\n"
     ]
    },
    {
     "name": "stderr",
     "output_type": "stream",
     "text": [
      "/tmp/ipykernel_3140/3635414313.py:2: RuntimeWarning: invalid value encountered in power\n",
      "  return  c*x**(-m)\n",
      "/home/temam/anaconda3/lib/python3.9/site-packages/scipy/optimize/minpack.py:833: OptimizeWarning: Covariance of the parameters could not be estimated\n",
      "  warnings.warn('Covariance of the parameters could not be estimated',\n"
     ]
    }
   ],
   "source": [
    "params, covariance = curve_fit(f = linear_fit, xdata = t_050315, ydata = Flux_050315)\n",
    "\n",
    "print('Slope (m) is ', params[0])\n",
    "print('Intercept (c) is ', params[1])\n",
    "print(covariance)"
   ]
  },
  {
   "cell_type": "code",
   "execution_count": 13,
   "id": "95d2951c",
   "metadata": {},
   "outputs": [
    {
     "name": "stdout",
     "output_type": "stream",
     "text": [
      "The value of fitting parameters with their errors\n",
      "The slope (m) is  1.0 +- inf\n",
      "The intercept (c) is  1.0 +- inf\n",
      "The R^2 value is  -8703900203718687.0\n"
     ]
    }
   ],
   "source": [
    "standarddevparams2 = np.sqrt(np.diag(covariance))\n",
    "residuals = Flux_050315 - linear_fit(t_050315,params[0],params[1])\n",
    "squaresumofresiduals = np.sum(residuals**2)\n",
    "squaresum = np.sum((Flux_050315-np.mean(Flux_050315))**2)\n",
    "R2 = 1 - (squaresumofresiduals/squaresum)\n",
    "\n",
    "print('The value of fitting parameters with their errors')\n",
    "print('The slope (m) is ', params[0],'+-', standarddevparams2[0])\n",
    "print('The intercept (c) is ', params[1],'+-', standarddevparams2[1])\n",
    "print('The R^2 value is ', R2)"
   ]
  },
  {
   "cell_type": "code",
   "execution_count": 15,
   "id": "44f912ff",
   "metadata": {},
   "outputs": [
    {
     "data": {
      "image/png": "[encoded data removed]",
      "text/plain": [
       "<Figure size 432x288 with 1 Axes>"
      ]
     },
     "metadata": {
      "needs_background": "light"
     },
     "output_type": "display_data"
    }
   ],
   "source": [
    "plt.scatter(t_050315,Flux_050315, c='k')\n",
    "plt.xlabel('Time (sec)')\n",
    "plt.ylabel('Flux [add unit]')\n",
    "#plt.ylim(1e-12,1e-10)\n",
    "#plt.xlim(80,1e3)\n",
    "plt.gca().set_yscale('log')\n",
    "plt.gca().set_xscale('log')\n",
    "plt.plot(t_050315, linear_fit(t_050315,params[0],params[1]),c='red',ls='--',lw=1)\n",
    "plt.errorbar(t_050315, Flux_050315, xerr=t_050315_up,  yerr=Flux_050315_up, markersize=5,  mfc = 'none',  \n",
    "             ecolor='k', fmt = ' ', mec='k', \n",
    "             capsize=0.1, lw=1.3,label='Long GRB150314A')\n",
    "#plt.grid()\n",
    "plt.legend(bbox_to_anchor=(0.31, .80, 0.99, .103), loc=3, ncol=1, fontsize=13, mode=\"expand\",fancybox = True,framealpha=0.0001, borderaxespad=0.01)\n",
    "plt.savefig('150314A_fit.png')\n",
    "plt.show();"
   ]
  },
  {
   "cell_type": "code",
   "execution_count": 17,
   "id": "bac67a1f",
   "metadata": {},
   "outputs": [
    {
     "data": {
      "image/png": "[encoded data removed]",
      "text/plain": [
       "<Figure size 432x288 with 1 Axes>"
      ]
     },
     "metadata": {
      "needs_background": "light"
     },
     "output_type": "display_data"
    }
   ],
   "source": [
    "plt.plot(t_050315, Flux_050315, 'bo')\n",
    "plt.errorbar(t_050315, Flux_050315, xerr=t_050315_up,  yerr=Flux_050315_up, markersize=5,  mfc = 'none',  \n",
    "             ecolor='g', fmt = ' ', mec='g', \n",
    "             capsize=0.1, lw=1.3,label='Long GRB150314A')\n",
    "plt.xlabel('Time (s)')\n",
    "plt.ylabel('Flux [add unit]')\n",
    "plt.gca().set_yscale('log')\n",
    "plt.gca().set_xscale('log')\n",
    "plt.grid()\n",
    "plt.legend(bbox_to_anchor=(0.31, .80, 0.99, .103), loc=3, ncol=1, fontsize=13, mode=\"expand\",fancybox = True,framealpha=0.0001, borderaxespad=0.01)\n",
    "\n",
    "plt.savefig('150314A_err.png')\n",
    "#plt.savefig('GRB180720C.pdf')\n",
    "plt.show()"
   ]
  },
  {
   "cell_type": "code",
   "execution_count": 19,
   "id": "5495e558",
   "metadata": {},
   "outputs": [
    {
     "name": "stderr",
     "output_type": "stream",
     "text": [
      "/tmp/ipykernel_3093/144701131.py:13: RuntimeWarning: invalid value encountered in log10\n",
      "  plt.hist(Flux_050315, bins = 10**np.linspace(np.log10(MINf), np.log10(MAXf), s), color='olive',\n",
      "/tmp/ipykernel_3093/144701131.py:16: RuntimeWarning: invalid value encountered in log10\n",
      "  yf, bin_edges = numpy.histogram(Flux_050315, bins = 10**np.linspace(np.log10(MINf), np.log10(MAXf), s))\n",
      "/tmp/ipykernel_3093/144701131.py:18: RuntimeWarning: invalid value encountered in power\n",
      "  plt.errorbar(bin_centers, yf, yerr = yf**0.5, marker = '.', fmt = '+', linewidth=2, color='k', capsize=1, alpha=.6)\n",
      "/tmp/ipykernel_3093/144701131.py:18: UserWarning: marker is redundantly defined by the 'marker' keyword argument and the fmt string \"+\" (-> marker='+'). The keyword argument will take precedence.\n",
      "  plt.errorbar(bin_centers, yf, yerr = yf**0.5, marker = '.', fmt = '+', linewidth=2, color='k', capsize=1, alpha=.6)\n",
      "/home/temam/anaconda3/lib/python3.9/site-packages/matplotlib/axes/_base.py:2475: UserWarning: Warning: converting a masked element to nan.\n",
      "  xys = np.asarray(xys)\n"
     ]
    },
    {
     "data": {
      "image/png": "[encoded data removed]",
      "text/plain": [
       "<Figure size 432x324 with 1 Axes>"
      ]
     },
     "metadata": {
      "needs_background": "light"
     },
     "output_type": "display_data"
    }
   ],
   "source": [
    "fig = plt.figure(1, figsize=(6.,4.5))\n",
    "ax = fig.add_subplot(111)\n",
    "#fig = plt.figure(1, figsize=(12.0,10.5))\n",
    "fig.subplots_adjust(hspace=0.00, wspace=0.00, left=0.11, bottom=0.11, top=0.965, right=0.97)\n",
    "\n",
    "\n",
    "#ax = plt.subplot2grid((3, 3), (0, 0), colspan=2)\n",
    "plt.tick_params(axis='both', left='on', top='off', right='off', bottom='on', labelleft='on', labeltop='off', labelright='off', labelbottom='on')\n",
    "\n",
    "\n",
    "s =20\n",
    "MINf, MAXf = np.min(Flux_050315), np.max(Flux_050315)\n",
    "plt.hist(Flux_050315, bins = 10**np.linspace(np.log10(MINf), np.log10(MAXf), s), color='olive', \n",
    "         lw=2.5, linestyle = '-',  histtype='step', rwidth='mid',  hatch='...', \n",
    "          edgecolor='olive',  alpha=.99, label='Long GRB150314A')\n",
    "yf, bin_edges = numpy.histogram(Flux_050315, bins = 10**np.linspace(np.log10(MINf), np.log10(MAXf), s))\n",
    "bin_centers = 0.5*(bin_edges[1:] + bin_edges[:-1])\n",
    "plt.errorbar(bin_centers, yf, yerr = yf**0.5, marker = '.', fmt = '+', linewidth=2, color='k', capsize=1, alpha=.6)\n",
    "plt.gca().set_xscale(\"log\")\n",
    "plt.xlabel(r'Flux [add unit]',fontsize=16,fontweight='normal')\n",
    "plt.ylabel(r'Counts ',fontsize=16,fontweight='normal')\n",
    "plt.legend(bbox_to_anchor=(0.11, .80, 0.99, .103), loc=3, ncol=1, fontsize=13, mode=\"expand\",fancybox = True,framealpha=0.0001, borderaxespad=0.01)\n",
    "\n",
    "\n",
    "plt.savefig('130418A_hist.png')\n",
    "\n",
    "plt.show()"
   ]
  },
  {
   "cell_type": "code",
   "execution_count": null,
   "id": "880a64f0",
   "metadata": {},
   "outputs": [],
   "source": []
  },
  {
   "cell_type": "code",
   "execution_count": null,
   "id": "ca989a15",
   "metadata": {},
   "outputs": [],
   "source": []
  },
  {
   "cell_type": "code",
   "execution_count": null,
   "id": "2edf3e78",
   "metadata": {},
   "outputs": [],
   "source": []
  }
 ],
 "metadata": {
  "kernelspec": {
   "display_name": "Python 3 (ipykernel)",
   "language": "python",
   "name": "python3"
  },
  "language_info": {
   "codemirror_mode": {
    "name": "ipython",
    "version": 3
   },
   "file_extension": ".py",
   "mimetype": "text/x-python",
   "name": "python",
   "nbconvert_exporter": "python",
   "pygments_lexer": "ipython3",
   "version": "3.9.12"
  }
 },
 "nbformat": 4,
 "nbformat_minor": 5
}
